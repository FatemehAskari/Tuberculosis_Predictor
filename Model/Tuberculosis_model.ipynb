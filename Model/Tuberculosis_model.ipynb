{
  "nbformat": 4,
  "nbformat_minor": 0,
  "metadata": {
    "colab": {
      "provenance": [],
      "gpuType": "T4"
    },
    "kernelspec": {
      "name": "python3",
      "display_name": "Python 3"
    },
    "language_info": {
      "name": "python"
    },
    "accelerator": "GPU"
  },
  "cells": [
    {
      "cell_type": "code",
      "execution_count": 1,
      "metadata": {
        "id": "_Dv0UB8ijpGe"
      },
      "outputs": [],
      "source": [
        "import pickle\n",
        "import random\n",
        "import matplotlib.pyplot as plt\n",
        "import numpy as np\n",
        "import matplotlib.pyplot as plt\n",
        "from keras.preprocessing.image import ImageDataGenerator\n",
        "import os\n",
        "import matplotlib.pyplot as plt\n",
        "import random\n",
        "from PIL import Image\n",
        "import  cv2\n",
        "from imblearn.over_sampling import SMOTE\n",
        "from keras.preprocessing.image import ImageDataGenerator\n",
        "\n",
        "# Oversample with SMOTE and random undersample for imbalanced dataset\n",
        "from collections import Counter\n",
        "from sklearn.datasets import make_classification\n",
        "from imblearn.over_sampling import SMOTE\n",
        "from imblearn.under_sampling import RandomUnderSampler\n",
        "from imblearn.pipeline import Pipeline\n",
        "from torchvision import transforms"
      ]
    },
    {
      "cell_type": "code",
      "source": [
        "from google.colab import drive\n",
        "drive.mount('/content/drive')"
      ],
      "metadata": {
        "colab": {
          "base_uri": "https://localhost:8080/"
        },
        "id": "D6PfEATPwmOP",
        "outputId": "ea5b2c3a-897e-4038-b14d-f77c08a9b42a"
      },
      "execution_count": 2,
      "outputs": [
        {
          "output_type": "stream",
          "name": "stdout",
          "text": [
            "Mounted at /content/drive\n"
          ]
        }
      ]
    },
    {
      "cell_type": "code",
      "source": [
        "def numimg(dirpath):\n",
        "  # Get a list of all files in the directory\n",
        "  files = os.listdir(dirpath)\n",
        "  print(len(files))"
      ],
      "metadata": {
        "id": "YXAASDp_w1l_"
      },
      "execution_count": 3,
      "outputs": []
    },
    {
      "cell_type": "code",
      "source": [
        "print(numimg('/content/drive/MyDrive/TubeXRAY/Normal'),numimg('/content/drive/MyDrive/TubeXRAY/Tuberculosis'))"
      ],
      "metadata": {
        "colab": {
          "base_uri": "https://localhost:8080/"
        },
        "id": "e4o-3NdpxbAj",
        "outputId": "b3b64a53-7757-415f-a750-cfaec3ebc09b"
      },
      "execution_count": 4,
      "outputs": [
        {
          "output_type": "stream",
          "name": "stdout",
          "text": [
            "3500\n",
            "3500\n",
            "None None\n"
          ]
        }
      ]
    },
    {
      "cell_type": "code",
      "source": [
        "def load_images_from_folder(folder, images):\n",
        "    o = 0\n",
        "    for filename in os.listdir(folder):\n",
        "        if filename.endswith(\".jpg\"):\n",
        "            o += 1\n",
        "            img = cv2.imread(os.path.join(folder, filename))\n",
        "            img = cv2.resize(img, (256, 256))\n",
        "            images.append(img)\n",
        "    print(o)"
      ],
      "metadata": {
        "id": "aHpdIp7wO058"
      },
      "execution_count": 5,
      "outputs": []
    },
    {
      "cell_type": "code",
      "source": [
        "imgs=[]\n",
        "filebasenormal='/content/drive/MyDrive/TubeXRAY/Normal'\n",
        "filebasetuber='/content/drive/MyDrive/TubeXRAY/Tuberculosis'\n",
        "\n",
        "load_images_from_folder(filebasenormal,imgs)\n",
        "load_images_from_folder(filebasetuber,imgs)\n"
      ],
      "metadata": {
        "colab": {
          "base_uri": "https://localhost:8080/"
        },
        "id": "irUGARoRNkQc",
        "outputId": "fb3093e3-1454-4313-c700-b066bfd4fdc2"
      },
      "execution_count": 6,
      "outputs": [
        {
          "output_type": "stream",
          "name": "stdout",
          "text": [
            "3499\n",
            "3500\n"
          ]
        }
      ]
    },
    {
      "cell_type": "code",
      "source": [
        "import numpy as np\n",
        "\n",
        "\n",
        "zeros_arr = np.zeros(3499,dtype=int)\n",
        "ones_arr = np.ones(3500,dtype=int)\n",
        "labels= np.concatenate((zeros_arr, ones_arr))\n",
        "\n",
        "imgs=np.array(imgs)\n",
        "print(labels)\n",
        "\n",
        "print(imgs.shape)"
      ],
      "metadata": {
        "colab": {
          "base_uri": "https://localhost:8080/"
        },
        "id": "7tzYcqBTQIYy",
        "outputId": "bb69ec1b-b585-47d4-b3ec-5f6b293eb835"
      },
      "execution_count": 7,
      "outputs": [
        {
          "output_type": "stream",
          "name": "stdout",
          "text": [
            "[0 0 0 ... 1 1 1]\n",
            "(6999, 256, 256, 3)\n"
          ]
        }
      ]
    },
    {
      "cell_type": "code",
      "source": [
        "# combine images and labels random\n",
        "\n",
        "indices = np.arange(len(labels))\n",
        "np.random.shuffle(indices)\n",
        "imgs = imgs[indices]\n",
        "labels = labels[indices]"
      ],
      "metadata": {
        "id": "11dolDlhRwN8"
      },
      "execution_count": 8,
      "outputs": []
    },
    {
      "cell_type": "code",
      "source": [
        "from sklearn.model_selection import train_test_split\n",
        "x_train, x_test, y_train, y_test = train_test_split(imgs, labels, test_size=0.2, random_state=42)"
      ],
      "metadata": {
        "id": "W4AdnpzMTD2d"
      },
      "execution_count": 9,
      "outputs": []
    },
    {
      "cell_type": "code",
      "source": [
        "print(x_train.shape, x_test.shape, y_train.shape, y_test.shape)"
      ],
      "metadata": {
        "colab": {
          "base_uri": "https://localhost:8080/"
        },
        "id": "CvKuSMDBaITn",
        "outputId": "3f215929-2a83-473d-cfe3-aa5b27b2b95c"
      },
      "execution_count": 10,
      "outputs": [
        {
          "output_type": "stream",
          "name": "stdout",
          "text": [
            "(5599, 256, 256, 3) (1400, 256, 256, 3) (5599,) (1400,)\n"
          ]
        }
      ]
    },
    {
      "cell_type": "code",
      "source": [
        "from tensorflow.keras.applications.resnet50 import ResNet50\n",
        "from keras.models import Model\n",
        "from keras.layers import Dense, GlobalAveragePooling2D\n",
        "from keras.optimizers import Adam\n",
        "import keras\n",
        "\n",
        "\n",
        "\n",
        "base_model = ResNet50(weights='imagenet', include_top=False, input_shape=(256, 256, 3))\n",
        "\n",
        "x = base_model.output\n",
        "x = GlobalAveragePooling2D()(x)\n",
        "x = Dense(1024, activation='relu')(x)\n",
        "predictions = Dense(2, activation='softmax')(x)\n",
        "\n",
        "\n",
        "model = Model(inputs=base_model.input, outputs=predictions)\n",
        "\n",
        "\n",
        "for layer in base_model.layers:\n",
        "    layer.trainable = False\n",
        "\n",
        "\n",
        "model.compile(optimizer=Adam(lr=0.001), loss='categorical_crossentropy', metrics=['accuracy'])"
      ],
      "metadata": {
        "colab": {
          "base_uri": "https://localhost:8080/"
        },
        "id": "Zxieg5PNaRtV",
        "outputId": "de57e394-43b4-452e-bb76-6f8c1e13b34d"
      },
      "execution_count": 15,
      "outputs": [
        {
          "output_type": "stream",
          "name": "stderr",
          "text": [
            "/usr/local/lib/python3.10/dist-packages/keras/optimizers/legacy/adam.py:117: UserWarning: The `lr` argument is deprecated, use `learning_rate` instead.\n",
            "  super().__init__(name, **kwargs)\n"
          ]
        }
      ]
    },
    {
      "cell_type": "code",
      "source": [
        "from keras.utils import to_categorical\n",
        "# تبدیل برچسب‌ها به شکل one-hot encoding\n",
        "y_train = to_categorical(y_train)\n",
        "y_test = to_categorical(y_test)\n",
        "\n",
        "print(y_train)"
      ],
      "metadata": {
        "colab": {
          "base_uri": "https://localhost:8080/"
        },
        "id": "WlBD0nhlc5eZ",
        "outputId": "e92781db-0ebd-4b31-cdd2-5ecf6a19eed3"
      },
      "execution_count": 12,
      "outputs": [
        {
          "output_type": "stream",
          "name": "stdout",
          "text": [
            "[[0. 1.]\n",
            " [0. 1.]\n",
            " [1. 0.]\n",
            " ...\n",
            " [0. 1.]\n",
            " [1. 0.]\n",
            " [1. 0.]]\n"
          ]
        }
      ]
    },
    {
      "cell_type": "code",
      "source": [
        "# آموزش مدل\n",
        "history=model.fit(x_train, y_train, validation_split=0.15, epochs=10, batch_size=32)"
      ],
      "metadata": {
        "colab": {
          "base_uri": "https://localhost:8080/"
        },
        "id": "9P8cev4QcUfk",
        "outputId": "c54b8908-cece-4506-f2b9-14f104920a20"
      },
      "execution_count": 16,
      "outputs": [
        {
          "output_type": "stream",
          "name": "stdout",
          "text": [
            "Epoch 1/10\n",
            "149/149 [==============================] - 28s 161ms/step - loss: 0.2939 - accuracy: 0.9281 - val_loss: 0.0619 - val_accuracy: 0.9786\n",
            "Epoch 2/10\n",
            "149/149 [==============================] - 23s 155ms/step - loss: 0.0585 - accuracy: 0.9779 - val_loss: 0.0402 - val_accuracy: 0.9857\n",
            "Epoch 3/10\n",
            "149/149 [==============================] - 23s 153ms/step - loss: 0.0383 - accuracy: 0.9861 - val_loss: 0.1108 - val_accuracy: 0.9560\n",
            "Epoch 4/10\n",
            "149/149 [==============================] - 23s 153ms/step - loss: 0.0214 - accuracy: 0.9922 - val_loss: 0.0312 - val_accuracy: 0.9893\n",
            "Epoch 5/10\n",
            "149/149 [==============================] - 21s 140ms/step - loss: 0.0129 - accuracy: 0.9954 - val_loss: 0.0392 - val_accuracy: 0.9821\n",
            "Epoch 6/10\n",
            "149/149 [==============================] - 21s 140ms/step - loss: 0.0087 - accuracy: 0.9964 - val_loss: 0.0167 - val_accuracy: 0.9929\n",
            "Epoch 7/10\n",
            "149/149 [==============================] - 21s 138ms/step - loss: 0.0047 - accuracy: 0.9987 - val_loss: 0.0255 - val_accuracy: 0.9917\n",
            "Epoch 8/10\n",
            "149/149 [==============================] - 21s 139ms/step - loss: 0.0045 - accuracy: 0.9987 - val_loss: 0.0208 - val_accuracy: 0.9917\n",
            "Epoch 9/10\n",
            "149/149 [==============================] - 21s 138ms/step - loss: 0.0016 - accuracy: 1.0000 - val_loss: 0.0161 - val_accuracy: 0.9929\n",
            "Epoch 10/10\n",
            "149/149 [==============================] - 23s 153ms/step - loss: 5.4316e-04 - accuracy: 1.0000 - val_loss: 0.0154 - val_accuracy: 0.9929\n"
          ]
        }
      ]
    },
    {
      "cell_type": "code",
      "source": [
        "test_loss, test_accuracy = model.evaluate(x_test, y_test)\n",
        "print(test_loss,test_accuracy)"
      ],
      "metadata": {
        "colab": {
          "base_uri": "https://localhost:8080/"
        },
        "id": "PtvJC_9QheKa",
        "outputId": "d991edd9-82e7-40f6-e744-8449275b6e1a"
      },
      "execution_count": 17,
      "outputs": [
        {
          "output_type": "stream",
          "name": "stdout",
          "text": [
            "44/44 [==============================] - 5s 117ms/step - loss: 0.0059 - accuracy: 0.9986\n",
            "0.005911742802709341 0.9985714554786682\n"
          ]
        }
      ]
    }
  ]
}